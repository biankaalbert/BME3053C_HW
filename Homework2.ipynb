{
  "nbformat": 4,
  "nbformat_minor": 0,
  "metadata": {
    "colab": {
      "provenance": [],
      "authorship_tag": "ABX9TyMsfYUs8MvWCNnc/kcBfqor",
      "include_colab_link": true
    },
    "kernelspec": {
      "name": "python3",
      "display_name": "Python 3"
    },
    "language_info": {
      "name": "python"
    }
  },
  "cells": [
    {
      "cell_type": "markdown",
      "metadata": {
        "id": "view-in-github",
        "colab_type": "text"
      },
      "source": [
        "<a href=\"https://colab.research.google.com/github/biankaalbert/BME3053C_HW/blob/main/Homework2.ipynb\" target=\"_parent\"><img src=\"https://colab.research.google.com/assets/colab-badge.svg\" alt=\"Open In Colab\"/></a>"
      ]
    },
    {
      "cell_type": "code",
      "execution_count": null,
      "metadata": {
        "colab": {
          "base_uri": "https://localhost:8080/"
        },
        "id": "NuIQz1OdSUJg",
        "outputId": "2ae72247-d589-45f1-fedf-050cd598c226"
      },
      "outputs": [
        {
          "output_type": "execute_result",
          "data": {
            "text/plain": [
              "[0.0,\n",
              " 0.32075471698113206,\n",
              " 0.5849056603773585,\n",
              " 0.05660377358490566,\n",
              " 0.7924528301886793,\n",
              " 1.0,\n",
              " 0.1320754716981132,\n",
              " 0.6415094339622641]"
            ]
          },
          "metadata": {},
          "execution_count": 6
        }
      ],
      "source": [
        "bp_readings=[120, 137, 151, 123, 162, 173, 127, 154]\n",
        "normalized_readings=[]\n",
        "\n",
        "def normalize(bp_readings):\n",
        "  min_val=min(bp_readings)\n",
        "  max_val=max(bp_readings)\n",
        "  denominator=max_val-min_val\n",
        "  for i in bp_readings:\n",
        "    numerator=i-min_val\n",
        "    norm=numerator/denominator\n",
        "    normalized_readings.append(norm)\n",
        "  return normalized_readings\n",
        "\n",
        "normalize(bp_readings)"
      ]
    }
  ]
}