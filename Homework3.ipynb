{
  "nbformat": 4,
  "nbformat_minor": 0,
  "metadata": {
    "colab": {
      "provenance": [],
      "authorship_tag": "ABX9TyOh5P+dQaZQTWnzZJPZGBu6",
      "include_colab_link": true
    },
    "kernelspec": {
      "name": "python3",
      "display_name": "Python 3"
    },
    "language_info": {
      "name": "python"
    }
  },
  "cells": [
    {
      "cell_type": "markdown",
      "metadata": {
        "id": "view-in-github",
        "colab_type": "text"
      },
      "source": [
        "<a href=\"https://colab.research.google.com/github/biankaalbert/BME3053C_HW/blob/main/Homework3.ipynb\" target=\"_parent\"><img src=\"https://colab.research.google.com/assets/colab-badge.svg\" alt=\"Open In Colab\"/></a>"
      ]
    },
    {
      "cell_type": "code",
      "execution_count": 9,
      "metadata": {
        "colab": {
          "base_uri": "https://localhost:8080/"
        },
        "id": "BMwwz2KSyrGl",
        "outputId": "878d4e2c-7523-4abe-ca0b-25e5279de493"
      },
      "outputs": [
        {
          "output_type": "stream",
          "name": "stdout",
          "text": [
            "The total number of peaks in PPG signals are:  29\n"
          ]
        }
      ],
      "source": [
        "import random, math\n",
        "\n",
        "ppg_signal = [1000 + 100 * math.sin(0.1 * x) + random.randint(-20, 20) for x in range(100)]\n",
        "peak=0\n",
        "\n",
        "for i in range(len(ppg_signal)-1):\n",
        "  if (ppg_signal[i] > ppg_signal[i-1]) and (ppg_signal[i] > ppg_signal[i+1]):\n",
        "    peak+=1\n",
        "    continue\n",
        "  else:\n",
        "    continue\n",
        "\n",
        "print(\"The total number of peaks in PPG signals are: \",peak)\n"
      ]
    }
  ]
}